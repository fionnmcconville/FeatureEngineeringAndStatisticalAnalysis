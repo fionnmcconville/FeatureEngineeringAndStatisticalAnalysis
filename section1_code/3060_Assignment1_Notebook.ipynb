{
 "cells": [
  {
   "cell_type": "markdown",
   "metadata": {},
   "source": [
    "# Converting image pgm files into csv format\n",
    "Below function converts pgm files with pixel values to binary values. \n",
    "\n",
    "Black pixels are 1 and white pixels are 0\n",
    "\n",
    "This function can be applied to each file in our directory using the for loop below:\n"
   ]
  },
  {
   "cell_type": "code",
   "execution_count": null,
   "metadata": {},
   "outputs": [],
   "source": [
    "#Below function converts pgm files with pixel values to binary values. Black pixels are 1 and white pixels are 0\n",
    "#This is made into a function so that it can be applied to each file in our directory using the for loop below\n",
    "def convertToBinary(x):\n",
    "    text_file = open(x, \"r\")\n",
    "    lines = text_file.readlines()\n",
    "    result_file = []\n",
    "\n",
    "    for row in range(4, len(lines)):   # Start at 5 in range because the first 4 lines is the header of the file\n",
    "        if int(lines[row]) >= 128:     # A number greater than or equal to 128 is a black pixel and is signified by the digit 1\n",
    "            result_file.append(0)\n",
    "        else:                          # Numbers less than 128 are white pixels and are signified by the digit 0\n",
    "            result_file.append(1)\n",
    "    text_file.close()\n",
    "    return result_file"
   ]
  },
  {
   "cell_type": "code",
   "execution_count": 20,
   "metadata": {},
   "outputs": [],
   "source": [
    "# Using the method os.walk() method we can iterate \n",
    "#through all the files in a given directory\n",
    "\n",
    "import os\n",
    "import pandas as pd\n",
    "import numpy as np\n",
    "\n",
    "directory = '../section1_pgm_files'\n",
    "for root, dirs, files in os.walk(directory):\n",
    "    for file in files:\n",
    "        #Here I make sure to have the filename include the directory plus the indivdual file's name\n",
    "        # so the convertToBinary function can properly locate the file.\n",
    "        filename = directory + '/' + file\n",
    "        filename = convertToBinary(filename)\n",
    "        \n",
    "        #In the next two lines the file is converted into an numpy array and converted to a 20X20\n",
    "        #matrix using the np.array_split method\n",
    "        numpy_array_file = np.array(filename)\n",
    "        new_array = np.array_split(numpy_array_file, 20)\n",
    "        \n",
    "        #converting straight from numpy array to csv was an idea, however the results formatted strangely and so for simplicity I \n",
    "        #converted each numpy array to a dataframe. The code below was used to convert from numpy array to csv\n",
    "        #np.savetxt(str(file), new_array, delimiter=\",\")\n",
    "        \n",
    "        #Numpy array is converted to dataframe so that it can be converted easily to csv. Creating a dataframe each look ay have\n",
    "        #more memory usage but it creates smaller csv files that are easier to read.\n",
    "        df = pd.DataFrame(new_array)\n",
    "        \n",
    "        #We make sure here that the file is returned with the .csv suffix instead of the pgm suffix.\n",
    "        #Each file has already been named with specified request, e.g 40156103_12_3, so this code works fine\n",
    "        file = file.replace('pgm', 'csv')\n",
    "        \n",
    "        #Convert dataframe to csv using to.csv method. We use the parameters of index = False and header = False to get rid of \n",
    "        #index and header as we don't need column and row indicies\n",
    "        df.to_csv(str(file), index = False, header = False )\n",
    "\n"
   ]
  }
 ],
 "metadata": {
  "kernelspec": {
   "display_name": "Python 3",
   "language": "python",
   "name": "python3"
  },
  "language_info": {
   "codemirror_mode": {
    "name": "ipython",
    "version": 3
   },
   "file_extension": ".py",
   "mimetype": "text/x-python",
   "name": "python",
   "nbconvert_exporter": "python",
   "pygments_lexer": "ipython3",
   "version": "3.6.5"
  }
 },
 "nbformat": 4,
 "nbformat_minor": 2
}
